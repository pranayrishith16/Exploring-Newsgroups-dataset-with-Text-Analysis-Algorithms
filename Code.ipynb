{
  "nbformat": 4,
  "nbformat_minor": 0,
  "metadata": {
    "colab": {
      "name": "Untitled26.ipynb",
      "provenance": []
    },
    "kernelspec": {
      "name": "python3",
      "display_name": "Python 3"
    },
    "language_info": {
      "name": "python"
    }
  },
  "cells": [
    {
      "cell_type": "code",
      "execution_count": null,
      "metadata": {
        "colab": {
          "base_uri": "https://localhost:8080/"
        },
        "id": "lE5l_nJwc5Ss",
        "outputId": "f3097d71-b94b-4cef-f711-27336afa6abc"
      },
      "outputs": [
        {
          "output_type": "stream",
          "name": "stderr",
          "text": [
            "[nltk_data] Downloading package names to /root/nltk_data...\n",
            "[nltk_data]   Package names is already up-to-date!\n",
            "[nltk_data] Downloading package wordnet to /root/nltk_data...\n",
            "[nltk_data]   Package wordnet is already up-to-date!\n",
            "[nltk_data] Downloading package omw-1.4 to /root/nltk_data...\n",
            "[nltk_data]   Package omw-1.4 is already up-to-date!\n"
          ]
        },
        {
          "output_type": "execute_result",
          "data": {
            "text/plain": [
              "True"
            ]
          },
          "metadata": {},
          "execution_count": 24
        }
      ],
      "source": [
        "from sklearn.datasets import fetch_20newsgroups\n",
        "import numpy as np\n",
        "import matplotlib.pyplot as plt\n",
        "import seaborn as sns\n",
        "from sklearn.feature_extraction.text import CountVectorizer\n",
        "from nltk.corpus import names\n",
        "from nltk.stem import WordNetLemmatizer\n",
        "from sklearn.cluster import KMeans\n",
        "from sklearn.decomposition import NMF\n",
        "\n",
        "import nltk\n",
        "nltk.download('names')\n",
        "nltk.download('wordnet')\n",
        "nltk.download('omw-1.4')"
      ]
    },
    {
      "cell_type": "code",
      "source": [
        "groups = fetch_20newsgroups()"
      ],
      "metadata": {
        "id": "9LFaxrB-dDOr"
      },
      "execution_count": null,
      "outputs": []
    },
    {
      "cell_type": "code",
      "execution_count": null,
      "metadata": {
        "colab": {
          "base_uri": "https://localhost:8080/"
        },
        "id": "665pORZ3dPjo",
        "outputId": "0406370e-2e8c-4006-c625-2198ebfd7449"
      },
      "outputs": [
        {
          "output_type": "execute_result",
          "data": {
            "text/plain": [
              "dict_keys(['data', 'filenames', 'target_names', 'target', 'DESCR'])"
            ]
          },
          "metadata": {},
          "execution_count": 12
        }
      ],
      "source": [
        "groups.keys()"
      ]
    },
    {
      "cell_type": "code",
      "source": [
        "np.unique(groups.target)"
      ],
      "metadata": {
        "colab": {
          "base_uri": "https://localhost:8080/"
        },
        "id": "imOcCSqxdw69",
        "outputId": "678e2688-51e5-4e1f-c23b-69a616446d85"
      },
      "execution_count": null,
      "outputs": [
        {
          "output_type": "execute_result",
          "data": {
            "text/plain": [
              "array([ 0,  1,  2,  3,  4,  5,  6,  7,  8,  9, 10, 11, 12, 13, 14, 15, 16,\n",
              "       17, 18, 19])"
            ]
          },
          "metadata": {},
          "execution_count": 13
        }
      ]
    },
    {
      "cell_type": "code",
      "source": [
        "sns.displot(groups.target)\n",
        "plt.show()"
      ],
      "metadata": {
        "colab": {
          "base_uri": "https://localhost:8080/",
          "height": 369
        },
        "id": "vcrV3v9oglRN",
        "outputId": "ad0912ac-a8e3-4621-fcb9-a7f9457b6754"
      },
      "execution_count": null,
      "outputs": [
        {
          "output_type": "display_data",
          "data": {
            "text/plain": [
              "<Figure size 360x360 with 1 Axes>"
            ],
            "image/png": "[encoded data removed]"
          },
          "metadata": {
            "needs_background": "light"
          }
        }
      ]
    },
    {
      "cell_type": "markdown",
      "source": [
        "# Top 500 words in the news"
      ],
      "metadata": {
        "id": "0Tnrh9Ktiu5Q"
      }
    },
    {
      "cell_type": "code",
      "source": [
        "cv = CountVectorizer(stop_words=\"english\",max_features=500)\n",
        "transformed = cv.fit_transform(groups.data)\n",
        "print(cv.get_feature_names_out())"
      ],
      "metadata": {
        "colab": {
          "base_uri": "https://localhost:8080/"
        },
        "id": "Af4Z_LMyg_7D",
        "outputId": "cd9e6ca8-0f35-4999-846d-98ba5b476d07"
      },
      "execution_count": null,
      "outputs": [
        {
          "output_type": "stream",
          "name": "stdout",
          "text": [
            "['00' '000' '0d' '0t' '10' '100' '11' '12' '13' '14' '145' '15' '16' '17'\n",
            " '18' '19' '1993' '1d9' '20' '21' '22' '23' '24' '25' '26' '27' '28' '29'\n",
            " '30' '31' '32' '33' '34' '34u' '35' '40' '45' '50' '55' '80' '92' '93'\n",
            " '__' '___' 'a86' 'able' 'ac' 'access' 'actually' 'address' 'ago' 'agree'\n",
            " 'al' 'american' 'andrew' 'answer' 'anybody' 'apple' 'application' 'apr'\n",
            " 'april' 'area' 'argument' 'armenian' 'armenians' 'article' 'ask' 'asked'\n",
            " 'att' 'au' 'available' 'away' 'ax' 'b8f' 'bad' 'based' 'believe'\n",
            " 'berkeley' 'best' 'better' 'bible' 'big' 'bike' 'bit' 'black' 'board'\n",
            " 'body' 'book' 'box' 'buy' 'ca' 'california' 'called' 'came' 'canada'\n",
            " 'car' 'card' 'care' 'case' 'cause' 'cc' 'center' 'certain' 'certainly'\n",
            " 'change' 'check' 'children' 'chip' 'christ' 'christian' 'christians'\n",
            " 'church' 'city' 'claim' 'clinton' 'clipper' 'cmu' 'code' 'college'\n",
            " 'color' 'colorado' 'columbia' 'com' 'come' 'comes' 'company' 'computer'\n",
            " 'consider' 'contact' 'control' 'copy' 'correct' 'cost' 'country' 'couple'\n",
            " 'course' 'cs' 'current' 'cwru' 'data' 'dave' 'david' 'day' 'days' 'db'\n",
            " 'deal' 'death' 'department' 'dept' 'did' 'didn' 'difference' 'different'\n",
            " 'disk' 'display' 'distribution' 'division' 'dod' 'does' 'doesn' 'doing'\n",
            " 'don' 'dos' 'drive' 'driver' 'drivers' 'earth' 'edu' 'email' 'encryption'\n",
            " 'end' 'engineering' 'especially' 'evidence' 'exactly' 'example'\n",
            " 'experience' 'fact' 'faith' 'faq' 'far' 'fast' 'fax' 'feel' 'file'\n",
            " 'files' 'following' 'free' 'ftp' 'g9v' 'game' 'games' 'general' 'getting'\n",
            " 'given' 'gmt' 'god' 'going' 'good' 'got' 'gov' 'government' 'graphics'\n",
            " 'great' 'group' 'groups' 'guess' 'gun' 'guns' 'hand' 'hard' 'hardware'\n",
            " 'having' 'health' 'heard' 'hell' 'help' 'hi' 'high' 'history' 'hockey'\n",
            " 'home' 'hope' 'host' 'house' 'hp' 'human' 'ibm' 'idea' 'image'\n",
            " 'important' 'include' 'including' 'info' 'information' 'instead'\n",
            " 'institute' 'interested' 'internet' 'isn' 'israel' 'israeli' 'issue'\n",
            " 'james' 'jesus' 'jewish' 'jews' 'jim' 'john' 'just' 'keith' 'key' 'keys'\n",
            " 'keywords' 'kind' 'know' 'known' 'large' 'later' 'law' 'left' 'let'\n",
            " 'level' 'life' 'like' 'likely' 'line' 'lines' 'list' 'little' 'live' 'll'\n",
            " 'local' 'long' 'look' 'looking' 'lot' 'love' 'low' 'ma' 'mac' 'machine'\n",
            " 'mail' 'major' 'make' 'makes' 'making' 'man' 'mark' 'matter' 'max'\n",
            " 'maybe' 'mean' 'means' 'memory' 'men' 'message' 'michael' 'mike' 'mind'\n",
            " 'mit' 'money' 'mr' 'ms' 'na' 'nasa' 'national' 'need' 'net' 'netcom'\n",
            " 'network' 'new' 'news' 'newsreader' 'nice' 'nntp' 'non' 'note' 'number'\n",
            " 'numbers' 'office' 'oh' 'ohio' 'old' 'open' 'opinions' 'order' 'org'\n",
            " 'organization' 'original' 'output' 'package' 'paul' 'pay' 'pc' 'people'\n",
            " 'period' 'person' 'phone' 'pitt' 'pl' 'place' 'play' 'players' 'point'\n",
            " 'points' 'police' 'possible' 'post' 'posting' 'power' 'president' 'press'\n",
            " 'pretty' 'price' 'private' 'probably' 'problem' 'problems' 'program'\n",
            " 'programs' 'provide' 'pub' 'public' 'question' 'questions' 'quite' 'read'\n",
            " 'reading' 'real' 'really' 'reason' 'religion' 'remember' 'reply'\n",
            " 'research' 'right' 'rights' 'robert' 'run' 'running' 'said' 'sale' 'san'\n",
            " 'saw' 'say' 'saying' 'says' 'school' 'science' 'screen' 'scsi' 'season'\n",
            " 'second' 'security' 'seen' 'send' 'sense' 'server' 'service' 'services'\n",
            " 'set' 'similar' 'simple' 'simply' 'single' 'size' 'small' 'software'\n",
            " 'sorry' 'sort' 'sound' 'source' 'space' 'speed' 'st' 'standard' 'start'\n",
            " 'started' 'state' 'states' 'steve' 'stop' 'stuff' 'subject' 'summary'\n",
            " 'sun' 'support' 'sure' 'systems' 'talk' 'talking' 'team' 'technology'\n",
            " 'tell' 'test' 'text' 'thanks' 'thing' 'things' 'think' 'thought' 'time'\n",
            " 'times' 'today' 'told' 'took' 'toronto' 'tried' 'true' 'truth' 'try'\n",
            " 'trying' 'turkish' 'type' 'uiuc' 'uk' 'understand' 'university' 'unix'\n",
            " 'unless' 'usa' 'use' 'used' 'user' 'using' 'usually' 'uucp' 've'\n",
            " 'version' 'video' 'view' 'virginia' 'vs' 'want' 'wanted' 'war'\n",
            " 'washington' 'way' 'went' 'white' 'win' 'window' 'windows' 'won' 'word'\n",
            " 'words' 'work' 'working' 'works' 'world' 'wouldn' 'write' 'writes'\n",
            " 'wrong' 'wrote' 'year' 'years' 'yes' 'york']\n"
          ]
        }
      ]
    },
    {
      "cell_type": "code",
      "source": [
        "sns.displot(np.log(transformed.toarray().sum(axis=0)))\n",
        "plt.xlabel('Log count')\n",
        "plt.ylabel('Freq')\n",
        "plt.show()"
      ],
      "metadata": {
        "colab": {
          "base_uri": "https://localhost:8080/",
          "height": 383
        },
        "id": "UHY7wfsthe5e",
        "outputId": "ae0a5c89-2d7e-439b-c515-263c4f40bf9c"
      },
      "execution_count": null,
      "outputs": [
        {
          "output_type": "display_data",
          "data": {
            "text/plain": [
              "<Figure size 360x360 with 1 Axes>"
            ],
            "image/png": "[encoded data removed]"
          },
          "metadata": {
            "needs_background": "light"
          }
        }
      ]
    },
    {
      "cell_type": "markdown",
      "source": [
        "# Preprocessing the top 500 words using stemming and lemmetizing"
      ],
      "metadata": {
        "id": "puE3B9s4i1wU"
      }
    },
    {
      "cell_type": "code",
      "source": [
        "def letter_only(astr):\n",
        "    return astr.isalpha()"
      ],
      "metadata": {
        "id": "BArNUY1LipBA"
      },
      "execution_count": null,
      "outputs": []
    },
    {
      "cell_type": "code",
      "source": [
        "cv = CountVectorizer(stop_words=\"english\",max_features=500)\n",
        "cleaned = []\n",
        "all_names = set(names.words())\n",
        "lemmatizer = WordNetLemmatizer()"
      ],
      "metadata": {
        "id": "MVlb9cgajCXg"
      },
      "execution_count": null,
      "outputs": []
    },
    {
      "cell_type": "code",
      "source": [
        "for post in groups.data:\n",
        "    cleaned.append(\" \".join([lemmatizer.lemmatize(word) for word in post.split() if letter_only(word) and word not in all_names]))"
      ],
      "metadata": {
        "id": "AY5UIAucjaQc"
      },
      "execution_count": null,
      "outputs": []
    },
    {
      "cell_type": "code",
      "source": [
        "transformed = cv.fit_transform(cleaned)\n",
        "print(cv.get_feature_names_out())"
      ],
      "metadata": {
        "colab": {
          "base_uri": "https://localhost:8080/"
        },
        "id": "pRZzAClrmrqb",
        "outputId": "79d29c09-fc72-4e04-c265-a892cfc4ec16"
      },
      "execution_count": null,
      "outputs": [
        {
          "output_type": "stream",
          "name": "stdout",
          "text": [
            "['able' 'accept' 'access' 'according' 'act' 'action' 'actually' 'add'\n",
            " 'address' 'ago' 'agree' 'algorithm' 'allow' 'american' 'anonymous'\n",
            " 'answer' 'anybody' 'apple' 'application' 'apr' 'area' 'argument'\n",
            " 'armenian' 'armenians' 'article' 'ask' 'asked' 'assume' 'attack'\n",
            " 'attempt' 'available' 'away' 'bad' 'based' 'basic' 'belief' 'believe'\n",
            " 'best' 'better' 'bible' 'big' 'bike' 'bit' 'black' 'board' 'body' 'book'\n",
            " 'box' 'build' 'bus' 'business' 'buy' 'ca' 'california' 'called' 'came'\n",
            " 'car' 'card' 'care' 'carry' 'case' 'cause' 'center' 'certain' 'certainly'\n",
            " 'chance' 'change' 'check' 'child' 'chip' 'christians' 'church' 'city'\n",
            " 'claim' 'clear' 'clipper' 'code' 'college' 'color' 'come' 'coming'\n",
            " 'command' 'comment' 'common' 'communication' 'company' 'computer'\n",
            " 'computing' 'consider' 'considered' 'contact' 'control' 'copy' 'correct'\n",
            " 'cost' 'country' 'couple' 'course' 'court' 'cover' 'create' 'crime'\n",
            " 'current' 'cut' 'data' 'day' 'db' 'deal' 'death' 'department' 'device'\n",
            " 'did' 'difference' 'different' 'discussion' 'disk' 'display' 'division'\n",
            " 'dod' 'doe' 'does' 'doing' 'dos' 'drive' 'driver' 'drug' 'early' 'earth'\n",
            " 'easy' 'effect' 'email' 'encryption' 'end' 'engineering' 'entry' 'error'\n",
            " 'especially' 'event' 'evidence' 'exactly' 'example' 'expect' 'experience'\n",
            " 'explain' 'face' 'fact' 'far' 'fast' 'federal' 'feel' 'figure' 'file'\n",
            " 'final' 'following' 'food' 'force' 'form' 'free' 'friend' 'ftp'\n",
            " 'function' 'game' 'general' 'getting' 'given' 'gmt' 'god' 'going' 'good'\n",
            " 'got' 'government' 'graphic' 'great' 'ground' 'group' 'guess' 'gun' 'guy'\n",
            " 'ha' 'hand' 'hard' 'hardware' 'having' 'head' 'health' 'hear' 'heard'\n",
            " 'hell' 'help' 'high' 'history' 'hit' 'hockey' 'hold' 'home' 'hope'\n",
            " 'house' 'human' 'ibm' 'idea' 'image' 'important' 'include' 'includes'\n",
            " 'including' 'individual' 'info' 'information' 'instead' 'institute'\n",
            " 'interested' 'interesting' 'international' 'internet' 'israeli' 'issue'\n",
            " 'jewish' 'jews' 'job' 'just' 'key' 'kill' 'killed' 'kind' 'know' 'known'\n",
            " 'large' 'later' 'launch' 'law' 'le' 'lead' 'league' 'left' 'legal' 'let'\n",
            " 'level' 'life' 'light' 'like' 'likely' 'line' 'list' 'little' 'live'\n",
            " 'local' 'long' 'longer' 'look' 'looking' 'lost' 'lot' 'love' 'low'\n",
            " 'machine' 'mail' 'main' 'major' 'make' 'making' 'man' 'manager' 'matter'\n",
            " 'maybe' 'mean' 'medical' 'member' 'memory' 'men' 'message' 'method'\n",
            " 'military' 'million' 'mind' 'mode' 'model' 'money' 'monitor' 'month'\n",
            " 'moral' 'mouse' 'na' 'nasa' 'national' 'near' 'need' 'needed' 'network'\n",
            " 'new' 'news' 'nice' 'north' 'note' 'number' 'offer' 'office' 'old' 'open'\n",
            " 'opinion' 'order' 'original' 'output' 'package' 'particular' 'past' 'pay'\n",
            " 'pc' 'people' 'period' 'person' 'personal' 'phone' 'place' 'play'\n",
            " 'player' 'point' 'police' 'policy' 'political' 'position' 'possible'\n",
            " 'post' 'posted' 'posting' 'power' 'president' 'press' 'pretty' 'previous'\n",
            " 'price' 'private' 'probably' 'problem' 'product' 'program' 'project'\n",
            " 'provide' 'public' 'purpose' 'question' 'quite' 'radio' 'rate' 'read'\n",
            " 'reading' 'real' 'really' 'reason' 'recently' 'reference' 'religion'\n",
            " 'religious' 'remember' 'reply' 'report' 'research' 'response' 'rest'\n",
            " 'result' 'return' 'right' 'road' 'rule' 'run' 'running' 'said' 'sale'\n",
            " 'san' 'save' 'saw' 'say' 'saying' 'school' 'science' 'screen' 'scsi'\n",
            " 'second' 'section' 'security' 'seen' 'sell' 'send' 'sense' 'sent'\n",
            " 'serial' 'server' 'service' 'services' 'set' 'shall' 'short' 'shot'\n",
            " 'similar' 'simple' 'simply' 'single' 'site' 'situation' 'size' 'small'\n",
            " 'software' 'sort' 'sound' 'source' 'space' 'special' 'specific' 'speed'\n",
            " 'standard' 'start' 'started' 'state' 'statement' 'stop' 'strong' 'study'\n",
            " 'stuff' 'subject' 'sun' 'support' 'sure' 'systems' 'taken' 'taking'\n",
            " 'talk' 'talking' 'tape' 'tax' 'team' 'technical' 'technology' 'tell'\n",
            " 'term' 'test' 'texas' 'text' 'thanks' 'thing' 'think' 'thinking'\n",
            " 'thought' 'time' 'tin' 'today' 'told' 'took' 'total' 'tried' 'true'\n",
            " 'truth' 'try' 'trying' 'turkish' 'turn' 'type' 'understand' 'united'\n",
            " 'university' 'unix' 'unless' 'usa' 'use' 'used' 'user' 'using' 'usually'\n",
            " 'value' 'various' 'version' 'video' 'view' 'wa' 'want' 'wanted' 'war'\n",
            " 'water' 'way' 'weapon' 'week' 'went' 'western' 'white' 'widget' 'willing'\n",
            " 'win' 'window' 'windows' 'wish' 'woman' 'word' 'work' 'working' 'world'\n",
            " 'worth' 'write' 'written' 'wrong' 'year' 'york' 'young']\n"
          ]
        }
      ]
    },
    {
      "cell_type": "code",
      "source": [
        " km = KMeans(n_clusters=20)\n",
        " km.fit(transformed)\n",
        " labels = groups.target\n",
        " plt.scatter(labels,km.labels_)\n",
        " plt.show()"
      ],
      "metadata": {
        "id": "aPpojecvn6D5",
        "colab": {
          "base_uri": "https://localhost:8080/",
          "height": 265
        },
        "outputId": "6224a734-586b-47b6-a9d6-257f20b5b559"
      },
      "execution_count": null,
      "outputs": [
        {
          "output_type": "display_data",
          "data": {
            "text/plain": [
              "<Figure size 432x288 with 1 Axes>"
            ],
            "image/png": "[encoded data removed]"
          },
          "metadata": {
            "needs_background": "light"
          }
        }
      ]
    },
    {
      "cell_type": "code",
      "source": [
        "transformed = cv.fit_transform(cleaned)\n",
        "nmf = NMF(n_components=100, random_state=43).fit(transformed)\n",
        "\n",
        "for topic_idx, topic in enumerate(nmf.components_):\n",
        "    label = '{}: '.format(topic_idx)\n",
        "    print(label, \" \".join([cv.get_feature_names()[i]\n",
        "                           for i in topic.argsort()[:-9:-1]]))"
      ],
      "metadata": {
        "colab": {
          "base_uri": "https://localhost:8080/"
        },
        "id": "BwCIgLpLIOhl",
        "outputId": "d4e4ae64-5fe5-4f91-b2c3-55279fa2e1cb"
      },
      "execution_count": null,
      "outputs": [
        {
          "output_type": "stream",
          "name": "stderr",
          "text": [
            "/usr/local/lib/python3.7/dist-packages/sklearn/decomposition/_nmf.py:294: FutureWarning: The 'init' value, when 'init=None' and n_components is less than n_samples and n_features, will be changed from 'nndsvd' to 'nndsvda' in 1.1 (renaming of 0.26).\n",
            "  FutureWarning,\n",
            "/usr/local/lib/python3.7/dist-packages/sklearn/decomposition/_nmf.py:1641: ConvergenceWarning: Maximum number of iterations 200 reached. Increase it to improve convergence.\n",
            "  ConvergenceWarning,\n",
            "/usr/local/lib/python3.7/dist-packages/sklearn/utils/deprecation.py:87: FutureWarning: Function get_feature_names is deprecated; get_feature_names is deprecated in 1.0 and will be removed in 1.2. Please use get_feature_names_out instead.\n",
            "  warnings.warn(msg, category=FutureWarning)\n"
          ]
        },
        {
          "output_type": "stream",
          "name": "stdout",
          "text": [
            "0:  wa went came told started said took saw\n",
            "1:  db bit data place stuff add line special\n",
            "2:  file version color free available display current better\n",
            "3:  file output line write entry open read return\n",
            "4:  data user information available file set disk read\n",
            "5:  disk hard drive support card head board includes\n",
            "6:  hockey league team division game player san final\n",
            "7:  image software color free user version display support\n",
            "8:  use used using note way similar usually report\n",
            "9:  president said group tax press working job package\n",
            "10:  launch space service communication small technology sale data\n",
            "11:  gun united control house file national american second\n",
            "12:  jews jewish war history help research million political\n",
            "13:  turkish sent government war came killed american took\n",
            "14:  god bible shall man life hell end come\n",
            "15:  people live country doing tell killed saying care\n",
            "16:  available version widget server includes sun support set\n",
            "17:  widget application value set type return event function\n",
            "18:  child number case rate le report difference black\n",
            "19:  entry file program rule source number info use\n",
            "20:  ground box usually current code house used white\n",
            "21:  ibm color week memory used standard hardware monitor\n",
            "22:  evidence science claim reason human study said read\n",
            "23:  anonymous posting service server user group message post\n",
            "24:  right human second free shall mean security political\n",
            "25:  gun rate crime city control death study difference\n",
            "26:  encryption technology access device policy security key chip\n",
            "27:  dos business great usa software interested internet world\n",
            "28:  armenian armenians turkish city road million single today\n",
            "29:  drive single mode set using model head check\n",
            "30:  war military attack way united force day known\n",
            "31:  like look long little guy having hear maybe\n",
            "32:  space nasa international national earth science technical radio\n",
            "33:  water city division similar north large san high\n",
            "34:  make difference sense sure le little end making\n",
            "35:  day come word said christians tell little way\n",
            "36:  good cover better great bad pretty best probably\n",
            "37:  university general thanks science department engineering texas computing\n",
            "38:  wa thought later seen used early order took\n",
            "39:  tape driver work memory note cause error following\n",
            "40:  just maybe start thought big probably getting guy\n",
            "41:  ha called given able taken exactly real past\n",
            "42:  president american support food money way important private\n",
            "43:  car speed driver change high buy different better\n",
            "44:  time long able having lot order away actually\n",
            "45:  send mail server message graphic file support site\n",
            "46:  power le play far local national left period\n",
            "47:  computer information science research service national internet communication\n",
            "48:  religious religion belief sort person idea way feel\n",
            "49:  section military shall weapon division person application mean\n",
            "50:  law court federal specific issue moral day order\n",
            "51:  dod bike member started live mean computer email\n",
            "52:  scsi hard pc drive device bus different come\n",
            "53:  israeli human policy attack life apr true fact\n",
            "54:  center research medical national number test study north\n",
            "55:  work job young school lot create business private\n",
            "56:  period second san special power result term shot\n",
            "57:  health medical national care study user person public\n",
            "58:  argument form true used event truth particular bible\n",
            "59:  internet email anonymous information user address file network\n",
            "60:  problem using having work line error apple help\n",
            "61:  key used message bit security product number algorithm\n",
            "62:  article read usa post discussion opinion gmt sure\n",
            "63:  public private issue standard security open mail message\n",
            "64:  game win play lead shot second hit left\n",
            "65:  year old ago best hit long couple win\n",
            "66:  list post group information offer discussion email send\n",
            "67:  want let help life trying reason hope copy\n",
            "68:  state case national federal le member local order\n",
            "69:  program change display try lot technology using version\n",
            "70:  did death let used fact man money word\n",
            "71:  doe mean different version actually ask human statement\n",
            "72:  thing saw sure trying asked seen having kind\n",
            "73:  point way line different human algorithm case exactly\n",
            "74:  going come way mean kind sure working look\n",
            "75:  window manager using server application offer user information\n",
            "76:  book read reference number copy armenian according speed\n",
            "77:  windows software driver using pc access help running\n",
            "78:  government political sure federal free country local private\n",
            "79:  team player win play better best number bad\n",
            "80:  need help phone needed able thanks kind maybe\n",
            "81:  drug used group information study war usa using\n",
            "82:  got shot went play hit took tried lead\n",
            "83:  question answer ask asked true discussion reason actually\n",
            "84:  chip clipper serial number algorithm phone encryption communication\n",
            "85:  san information police said league group political including\n",
            "86:  say mean word clear moral value read act\n",
            "87:  think lot trying try talk kind agree bit\n",
            "88:  church member christians group true command different bible\n",
            "89:  package code includes source available software using function\n",
            "90:  card driver video support mouse mode board bus\n",
            "91:  ftp available anonymous general information nasa ibm version\n",
            "92:  world life news earth light following country million\n",
            "93:  run running home start server speed win hit\n",
            "94:  new york change study old early lost care\n",
            "95:  woman men man way great body life religion\n",
            "96:  know tell does way let sure understand talking\n",
            "97:  believe belief truth hell christians claim different mean\n",
            "98:  sound play left come apple number manager work\n",
            "99:  really better lot probably best player little big\n"
          ]
        }
      ]
    }
  ]
}
